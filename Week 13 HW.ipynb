{
 "cells": [
  {
   "cell_type": "code",
   "execution_count": 1,
   "metadata": {},
   "outputs": [],
   "source": [
    "import random"
   ]
  },
  {
   "cell_type": "code",
   "execution_count": 6,
   "metadata": {},
   "outputs": [],
   "source": [
    "def Guess_Number():\n",
    "    print(\"The computer has picked a secret number. Guess the number to WIN. \")\n",
    "    x = int(input(\"What is the lowest number possible for the secret number? \"))\n",
    "    y = int(input(\"What is the highest number possible for the secret number? Please make sure this number is below 100,000 \"))\n",
    "    Number = random.randint(x,y)\n",
    "    b = True\n",
    "    while b == True: \n",
    "        Guess = int(input(\"What is your guess for the secret number? If you give up press 100,000 or higher. \"))\n",
    "        if Guess == Number:\n",
    "            print(\"You WIN\")\n",
    "            b = False\n",
    "        if Guess < Number:\n",
    "            print(\"Guess Higher\")\n",
    "        if (Guess > Number) and (Guess < 99999):\n",
    "            print(\"Guess Lower\")\n",
    "        if Guess >= 100000:\n",
    "            b=False"
   ]
  },
  {
   "cell_type": "code",
   "execution_count": 7,
   "metadata": {},
   "outputs": [
    {
     "name": "stdout",
     "output_type": "stream",
     "text": [
      "The computer has picked a secret number. Guess the number to WIN. \n",
      "What is the lowest number possible for the secret number? 0\n",
      "What is the highest number possible for the secret number? Please make sure this number is below 100,000 10000\n",
      "What is your guess for the secret number? If you give up press 100,000 or higher. 100000\n"
     ]
    }
   ],
   "source": [
    "Guess_Number()"
   ]
  },
  {
   "cell_type": "code",
   "execution_count": null,
   "metadata": {},
   "outputs": [],
   "source": []
  }
 ],
 "metadata": {
  "kernelspec": {
   "display_name": "Python 3",
   "language": "python",
   "name": "python3"
  },
  "language_info": {
   "codemirror_mode": {
    "name": "ipython",
    "version": 3
   },
   "file_extension": ".py",
   "mimetype": "text/x-python",
   "name": "python",
   "nbconvert_exporter": "python",
   "pygments_lexer": "ipython3",
   "version": "3.8.5"
  }
 },
 "nbformat": 4,
 "nbformat_minor": 4
}
