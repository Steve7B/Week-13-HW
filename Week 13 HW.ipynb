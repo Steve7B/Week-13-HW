{
 "cells": [
  {
   "cell_type": "code",
   "execution_count": 87,
   "metadata": {},
   "outputs": [],
   "source": [
    "import random"
   ]
  },
  {
   "cell_type": "code",
   "execution_count": 111,
   "metadata": {},
   "outputs": [],
   "source": [
    "def Guess_Number():\n",
    "    print(\"The computer has picked a secret number. Guess the number to WIN. \")\n",
    "    x = int(input(\"What is the lowest number possible for the secret number? \"))\n",
    "    y = int(input(\"What is the highest number possible for the secret number? \"))\n",
    "    Number = random.randint(x,y)\n",
    "    b = True\n",
    "    while b == True: \n",
    "        Guess = input(\"What is your guess for the secret number? If you give up type q. \")\n",
    "        if Guess == 'q':\n",
    "            b=False\n",
    "            break\n",
    "        Guess = int(Guess)\n",
    "        if Guess == Number:\n",
    "            print(\"You WIN\")\n",
    "            b = False\n",
    "        if Guess < Number:\n",
    "            print(\"Guess Higher\")\n",
    "        if (Guess > Number):\n",
    "            print(\"Guess Lower\")\n",
    "        "
   ]
  },
  {
   "cell_type": "code",
   "execution_count": 112,
   "metadata": {},
   "outputs": [
    {
     "name": "stdout",
     "output_type": "stream",
     "text": [
      "The computer has picked a secret number. Guess the number to WIN. \n",
      "What is the lowest number possible for the secret number? 1\n",
      "What is the highest number possible for the secret number? 100\n",
      "What is your guess for the secret number? If you give up type q. q\n"
     ]
    }
   ],
   "source": [
    "Guess_Number()"
   ]
  },
  {
   "cell_type": "code",
   "execution_count": 113,
   "metadata": {},
   "outputs": [],
   "source": [
    "def Job():\n",
    "    print(\"Hello\")"
   ]
  },
  {
   "cell_type": "code",
   "execution_count": 114,
   "metadata": {},
   "outputs": [],
   "source": [
    "def Do_n(Function,Times):\n",
    "    if Times==0:\n",
    "        return 0\n",
    "    else:\n",
    "        Function()\n",
    "        Do_n(Function,(Times-1))"
   ]
  },
  {
   "cell_type": "code",
   "execution_count": 116,
   "metadata": {},
   "outputs": [
    {
     "name": "stdout",
     "output_type": "stream",
     "text": [
      "Hello\n",
      "Hello\n",
      "Hello\n",
      "Hello\n",
      "Hello\n"
     ]
    }
   ],
   "source": [
    "Do_n(Job,5)"
   ]
  },
  {
   "cell_type": "code",
   "execution_count": null,
   "metadata": {},
   "outputs": [],
   "source": []
  }
 ],
 "metadata": {
  "kernelspec": {
   "display_name": "Python 3",
   "language": "python",
   "name": "python3"
  },
  "language_info": {
   "codemirror_mode": {
    "name": "ipython",
    "version": 3
   },
   "file_extension": ".py",
   "mimetype": "text/x-python",
   "name": "python",
   "nbconvert_exporter": "python",
   "pygments_lexer": "ipython3",
   "version": "3.8.5"
  }
 },
 "nbformat": 4,
 "nbformat_minor": 4
}
