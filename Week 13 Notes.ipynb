{
 "cells": [
  {
   "cell_type": "code",
   "execution_count": null,
   "metadata": {},
   "outputs": [],
   "source": [
    "print(\"Is it windy today? If yes press one if no press two\") #(From Troy)\n",
    "\n",
    "X = input(\"Is it windy today? If windy please type True, else please type False\\n>\").lower()\n",
    "if (X == \"true\"):\n",
    "    print(\"It's windy so take a jacket\")\n",
    "else:\n",
    "    print(\"you don't need a jacket\")\n",
    "   \n",
    "Y = input(\"Is it cold today? If cold please type True, else please type False\\n>\").lower()\n",
    "if (Y == \"true\"):\n",
    "    print(\"It's cold so take a jacket\")\n",
    "else:\n",
    "    print(\"you don't need a jacket\")\n",
    "   \n",
    "if (X == \"true\" or Y == \"true\"):\n",
    "    print(\"You need a jacket, since it's windy or cold!\")\n",
    "else:\n",
    "    print(\"You don't need a jacket, since it's not windy nor cold!\")"
   ]
  }
 ],
 "metadata": {
  "kernelspec": {
   "display_name": "Python 3",
   "language": "python",
   "name": "python3"
  },
  "language_info": {
   "codemirror_mode": {
    "name": "ipython",
    "version": 3
   },
   "file_extension": ".py",
   "mimetype": "text/x-python",
   "name": "python",
   "nbconvert_exporter": "python",
   "pygments_lexer": "ipython3",
   "version": "3.8.5"
  }
 },
 "nbformat": 4,
 "nbformat_minor": 4
}
